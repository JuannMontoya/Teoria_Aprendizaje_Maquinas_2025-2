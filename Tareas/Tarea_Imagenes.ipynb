{
  "nbformat": 4,
  "nbformat_minor": 0,
  "metadata": {
    "colab": {
      "provenance": [],
      "authorship_tag": "ABX9TyOY/wkGwn4JUJkMz9tFnTQ4",
      "include_colab_link": true
    },
    "kernelspec": {
      "name": "python3",
      "display_name": "Python 3"
    },
    "language_info": {
      "name": "python"
    }
  },
  "cells": [
    {
      "cell_type": "markdown",
      "metadata": {
        "id": "view-in-github",
        "colab_type": "text"
      },
      "source": [
        "<a href=\"https://colab.research.google.com/github/JuannMontoya/Teoria_Aprendizaje_Maquinas_2025-2/blob/main/Tareas/Tarea_Imagenes.ipynb\" target=\"_parent\"><img src=\"https://colab.research.google.com/assets/colab-badge.svg\" alt=\"Open In Colab\"/></a>"
      ]
    },
    {
      "cell_type": "code",
      "execution_count": 5,
      "metadata": {
        "colab": {
          "base_uri": "https://localhost:8080/"
        },
        "id": "tbBDHmgfBS9w",
        "outputId": "3989b69f-4e1b-4411-972e-8d984c2c8cb1"
      },
      "outputs": [
        {
          "output_type": "stream",
          "name": "stdout",
          "text": [
            "Distancia target - imagen1: 5442.297\n",
            "Distancia target - imagen2: 9394.567\n",
            "Similitud coseno target - imagen1: 0.9234304\n",
            "Similitud coseno target - imagen2: 0.7938594\n",
            "La imagen target se parece más a la imagen1\n"
          ]
        }
      ],
      "source": [
        "import numpy as np\n",
        "from PIL import Image\n",
        "\n",
        "def cargar_imagen(ruta, size=(100, 100)):\n",
        "    img = Image.open(ruta).convert(\"L\")\n",
        "    img = img.resize(size)\n",
        "    matriz = np.array(img, dtype=np.float32)\n",
        "    return matriz.flatten()\n",
        "\n",
        "def distancia_euclidiana(vec1, vec2):\n",
        "    return np.sqrt(np.sum((vec1 - vec2) ** 2))\n",
        "\n",
        "def producto_punto_normalizado(vec1, vec2):\n",
        "    \"\"\"\n",
        "    Producto punto.\n",
        "    \"\"\"\n",
        "    numerador = np.dot(vec1, vec2)\n",
        "    denom = np.linalg.norm(vec1) * np.linalg.norm(vec2)\n",
        "    if denom == 0:\n",
        "        return 0\n",
        "    return numerador / denom\n",
        "\n",
        "# Cargar imágenes\n",
        "img1 = cargar_imagen(\"/content/montoya1.jpeg\")\n",
        "img2 = cargar_imagen(\"/content/caro1.jpeg\")\n",
        "target = cargar_imagen(\"/content/montoya2.jpeg\")\n",
        "\n",
        "# Distancias euclidiana\n",
        "d1 = distancia_euclidiana(target, img1)\n",
        "d2 = distancia_euclidiana(target, img2)\n",
        "\n",
        "# Producto punto\n",
        "p1 = producto_punto_normalizado(target, img1)\n",
        "p2 = producto_punto_normalizado(target, img2)\n",
        "\n",
        "print(\"Distancia target - imagen1:\", d1)\n",
        "print(\"Distancia target - imagen2:\", d2)\n",
        "print(\"Similitud coseno target - imagen1:\", p1)\n",
        "print(\"Similitud coseno target - imagen2:\", p2)\n",
        "\n",
        "if d1 < d2 and p1 > p2:\n",
        "    print(\"La imagen target se parece más a la imagen1\")\n",
        "else:\n",
        "    print(\"La imagen target se parece más a la imagen2\")\n"
      ]
    }
  ]
}